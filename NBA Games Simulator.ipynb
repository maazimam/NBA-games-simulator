{
 "cells": [
  {
   "cell_type": "code",
   "execution_count": 5,
   "metadata": {},
   "outputs": [],
   "source": [
    "import pandas as pd\n",
    "import numpy as np\n",
    "import matplotlib.pyplot as plt\n",
    "import random as rnd"
   ]
  },
  {
   "cell_type": "code",
   "execution_count": 13,
   "metadata": {},
   "outputs": [],
   "source": [
    "data = pd.read_csv('lalvslac.csv')"
   ]
  },
  {
   "cell_type": "code",
   "execution_count": 14,
   "metadata": {},
   "outputs": [
    {
     "data": {
      "text/html": [
       "<div>\n",
       "<style scoped>\n",
       "    .dataframe tbody tr th:only-of-type {\n",
       "        vertical-align: middle;\n",
       "    }\n",
       "\n",
       "    .dataframe tbody tr th {\n",
       "        vertical-align: top;\n",
       "    }\n",
       "\n",
       "    .dataframe thead th {\n",
       "        text-align: right;\n",
       "    }\n",
       "</style>\n",
       "<table border=\"1\" class=\"dataframe\">\n",
       "  <thead>\n",
       "    <tr style=\"text-align: right;\">\n",
       "      <th></th>\n",
       "      <th>Season</th>\n",
       "      <th>Lg</th>\n",
       "      <th>Tm</th>\n",
       "      <th>W</th>\n",
       "      <th>L</th>\n",
       "      <th>Finish</th>\n",
       "      <th>Age</th>\n",
       "      <th>Ht.</th>\n",
       "      <th>Wt.</th>\n",
       "      <th>G</th>\n",
       "      <th>...</th>\n",
       "      <th>ORB</th>\n",
       "      <th>DRB</th>\n",
       "      <th>TRB</th>\n",
       "      <th>AST</th>\n",
       "      <th>STL</th>\n",
       "      <th>BLK</th>\n",
       "      <th>TOV</th>\n",
       "      <th>PF</th>\n",
       "      <th>PTS</th>\n",
       "      <th>OPTS</th>\n",
       "    </tr>\n",
       "  </thead>\n",
       "  <tbody>\n",
       "    <tr>\n",
       "      <th>0</th>\n",
       "      <td>2019-20</td>\n",
       "      <td>NBA</td>\n",
       "      <td>LAC</td>\n",
       "      <td>44</td>\n",
       "      <td>20</td>\n",
       "      <td>2</td>\n",
       "      <td>27.4</td>\n",
       "      <td>5-Jun</td>\n",
       "      <td>213</td>\n",
       "      <td>64</td>\n",
       "      <td>...</td>\n",
       "      <td>11.0</td>\n",
       "      <td>37.0</td>\n",
       "      <td>48.0</td>\n",
       "      <td>23.8</td>\n",
       "      <td>7.1</td>\n",
       "      <td>5.0</td>\n",
       "      <td>14.8</td>\n",
       "      <td>22.0</td>\n",
       "      <td>116.2</td>\n",
       "      <td>109.7</td>\n",
       "    </tr>\n",
       "    <tr>\n",
       "      <th>1</th>\n",
       "      <td>2019-20</td>\n",
       "      <td>NBA</td>\n",
       "      <td>LAL</td>\n",
       "      <td>49</td>\n",
       "      <td>14</td>\n",
       "      <td>1</td>\n",
       "      <td>29.6</td>\n",
       "      <td>6-Jun</td>\n",
       "      <td>224</td>\n",
       "      <td>63</td>\n",
       "      <td>...</td>\n",
       "      <td>10.6</td>\n",
       "      <td>35.5</td>\n",
       "      <td>46.1</td>\n",
       "      <td>25.9</td>\n",
       "      <td>8.6</td>\n",
       "      <td>6.8</td>\n",
       "      <td>15.1</td>\n",
       "      <td>20.6</td>\n",
       "      <td>114.3</td>\n",
       "      <td>106.9</td>\n",
       "    </tr>\n",
       "  </tbody>\n",
       "</table>\n",
       "<p>2 rows × 33 columns</p>\n",
       "</div>"
      ],
      "text/plain": [
       "    Season   Lg   Tm   W   L  Finish   Age    Ht.  Wt.   G  ...     ORB   DRB  \\\n",
       "0  2019-20  NBA  LAC  44  20       2  27.4  5-Jun  213  64  ...    11.0  37.0   \n",
       "1  2019-20  NBA  LAL  49  14       1  29.6  6-Jun  224  63  ...    10.6  35.5   \n",
       "\n",
       "    TRB   AST  STL  BLK   TOV    PF    PTS   OPTS  \n",
       "0  48.0  23.8  7.1  5.0  14.8  22.0  116.2  109.7  \n",
       "1  46.1  25.9  8.6  6.8  15.1  20.6  114.3  106.9  \n",
       "\n",
       "[2 rows x 33 columns]"
      ]
     },
     "execution_count": 14,
     "metadata": {},
     "output_type": "execute_result"
    }
   ],
   "source": [
    "data"
   ]
  },
  {
   "cell_type": "code",
   "execution_count": 20,
   "metadata": {},
   "outputs": [],
   "source": [
    "laldf = data[data.Tm == 'LAL']\n",
    "lacdf = data[data.Tm == 'LAC']"
   ]
  },
  {
   "cell_type": "code",
   "execution_count": 123,
   "metadata": {},
   "outputs": [
    {
     "data": {
      "text/plain": [
       "<matplotlib.legend.Legend at 0x28be1c087b8>"
      ]
     },
     "execution_count": 123,
     "metadata": {},
     "output_type": "execute_result"
    },
    {
     "data": {
      "image/png": "[encoded data removed]",
      "text/plain": [
       "<Figure size 432x288 with 1 Axes>"
      ]
     },
     "metadata": {},
     "output_type": "display_data"
    }
   ],
   "source": [
    "laldf.PTS.hist(color = 'gold')\n",
    "lacdf.PTS.hist(color = 'red')\n",
    "plt.title('Points per game',fontsize=14)\n",
    "plt.legend(['Lakers', 'Clippers'])"
   ]
  },
  {
   "cell_type": "code",
   "execution_count": 124,
   "metadata": {},
   "outputs": [
    {
     "data": {
      "text/plain": [
       "<matplotlib.legend.Legend at 0x28be1c9c1d0>"
      ]
     },
     "execution_count": 124,
     "metadata": {},
     "output_type": "execute_result"
    },
    {
     "data": {
      "image/png": "[encoded data removed]",
      "text/plain": [
       "<Figure size 432x288 with 1 Axes>"
      ]
     },
     "metadata": {},
     "output_type": "display_data"
    }
   ],
   "source": [
    "laldf.OPTS.hist(color = 'gold')\n",
    "lacdf.OPTS.hist(color = 'red')\n",
    "plt.title('Opponent Points per game',fontsize=14)\n",
    "plt.legend(['Lakers', 'Clippers'])"
   ]
  },
  {
   "cell_type": "code",
   "execution_count": 56,
   "metadata": {},
   "outputs": [
    {
     "name": "stdout",
     "output_type": "stream",
     "text": [
      "Lakers Average Points per game is  114.3\n",
      "Clippers Average Points per game is  116.2\n",
      "Lakers Average Opponent Points per game is  106.9\n",
      "Clippers Average Opponent Points per game is  109.7\n"
     ]
    }
   ],
   "source": [
    "lalmeanpts = laldf.PTS.mean()\n",
    "lalsdpts = 12.020\n",
    "lacmeanpts = lacdf.PTS.mean()\n",
    "lacsdpts = 14.121\n",
    "lalmeanopts = laldf.OPTS.mean()\n",
    "lalsdopts = 12.0521\n",
    "lacmeanopts = lacdf.OPTS.mean()\n",
    "lacsdopts = 11.851\n",
    "\n",
    "\n",
    "print(\"Lakers Average Points per game is \", lalmeanpts)\n",
    "print(\"Clippers Average Points per game is \", lacmeanpts)\n",
    "print(\"Lakers Average Opponent Points per game is \", lalmeanopts)\n",
    "print(\"Clippers Average Opponent Points per game is \", lacmeanopts)"
   ]
  },
  {
   "cell_type": "code",
   "execution_count": 118,
   "metadata": {},
   "outputs": [
    {
     "data": {
      "text/plain": [
       "121.69960232115938"
      ]
     },
     "execution_count": 118,
     "metadata": {},
     "output_type": "execute_result"
    }
   ],
   "source": [
    "rnd.gauss(lalmeanpts, lalsdpts)"
   ]
  },
  {
   "cell_type": "code",
   "execution_count": 91,
   "metadata": {},
   "outputs": [],
   "source": [
    "def gameSim():\n",
    "    LALScore = (rnd.gauss(lalmeanpts, lalsdpts)+ rnd.gauss(lacmeanopts, lacsdopts))/2\n",
    "    LACScore = (rnd.gauss(lacmeanpts, lacsdpts)+ rnd.gauss(lalmeanopts, lalsdopts))/2\n",
    "    if int(round(LALScore)) > int(round(LACScore)):\n",
    "        return \"Lakers Win\"\n",
    "    elif int(round(LALScore)) < int(round(LACScore)):\n",
    "        return \"Clippers Win\" \n",
    "    else: return 'Tie'"
   ]
  },
  {
   "cell_type": "code",
   "execution_count": 132,
   "metadata": {},
   "outputs": [
    {
     "data": {
      "text/plain": [
       "'Clippers Win'"
      ]
     },
     "execution_count": 132,
     "metadata": {},
     "output_type": "execute_result"
    }
   ],
   "source": [
    "gameSim()"
   ]
  },
  {
   "cell_type": "code",
   "execution_count": null,
   "metadata": {},
   "outputs": [],
   "source": []
  },
  {
   "cell_type": "code",
   "execution_count": null,
   "metadata": {},
   "outputs": [],
   "source": []
  }
 ],
 "metadata": {
  "kernelspec": {
   "display_name": "Python 3",
   "language": "python",
   "name": "python3"
  },
  "language_info": {
   "codemirror_mode": {
    "name": "ipython",
    "version": 3
   },
   "file_extension": ".py",
   "mimetype": "text/x-python",
   "name": "python",
   "nbconvert_exporter": "python",
   "pygments_lexer": "ipython3",
   "version": "3.6.5"
  }
 },
 "nbformat": 4,
 "nbformat_minor": 2
}
